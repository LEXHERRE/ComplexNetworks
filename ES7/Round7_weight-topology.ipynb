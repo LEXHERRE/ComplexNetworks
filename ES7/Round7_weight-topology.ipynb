{
 "cells": [
  {
   "cell_type": "markdown",
   "metadata": {
    "deletable": false,
    "editable": false,
    "nbgrader": {
     "cell_type": "markdown",
     "checksum": "6c72be95fb2649edb7367ea6cb8029a8",
     "grade": false,
     "grade_id": "cell-2f7d49e6bc20ba56",
     "locked": true,
     "schema_version": 3,
     "solution": false,
     "task": false
    }
   },
   "source": [
    "# Round 7-1: Weight–topology correlations in social networks\n",
    "\n",
    "In this exercise, we will do some weighted network analysis using a social network data set describing private messaging in a Facebook-like web-page (Data originally from http://toreopsahl.com/datasets/ ).\n",
    "In the network, each node corresponds to a user of the website and link weights describe the total number of messages exchanged between users. \n",
    "\n",
    "In the file `OClinks_w_undir.edg`, the three entries of each row describe one link:\n",
    "`(node_i node_j w_ij)`,\n",
    "where the last entry `w_ij` is the weight of the link between nodes `node_i` and `node_j`.\n",
    "\n",
    "You can use this notebook or the accompanying Python template (weight_topology_correlations.py) to get started. The notebook and template have some functions that will help you. Do NOT modify these functions. You may start modifying the code after the header **\"Begin of the exercise\"**.\n",
    "\n",
    "`scipy.stats.binned_statistic` function is especially useful throughout this exercise."
   ]
  },
  {
   "cell_type": "code",
   "execution_count": 1,
   "metadata": {
    "deletable": false,
    "editable": false,
    "nbgrader": {
     "cell_type": "code",
     "checksum": "1f83e6573939ae8eb4ac2ed63dfc2458",
     "grade": false,
     "grade_id": "cell-946dc41ddaf21d69",
     "locked": true,
     "schema_version": 3,
     "solution": false,
     "task": false
    }
   },
   "outputs": [],
   "source": [
    "import matplotlib.pyplot as plt\n",
    "import numpy as np\n",
    "import networkx as nx\n",
    "from scipy.stats import binned_statistic"
   ]
  },
  {
   "cell_type": "code",
   "execution_count": 2,
   "metadata": {
    "deletable": false,
    "editable": false,
    "nbgrader": {
     "cell_type": "code",
     "checksum": "2d91b918ea1bfcbbc7a3a0a707c6333a",
     "grade": false,
     "grade_id": "cell-05312c9c27e08f6c",
     "locked": true,
     "schema_version": 3,
     "solution": false,
     "task": false
    }
   },
   "outputs": [],
   "source": [
    "def create_linbins(start, end, n_bins):\n",
    "    \"\"\"\n",
    "    Creates a set of linear bins.\n",
    "\n",
    "    Parameters\n",
    "    -----------\n",
    "    start: minimum value of data, int\n",
    "    end: maximum value of data, int\n",
    "    n_bins: number of bins, int\n",
    "\n",
    "    Returns\n",
    "    --------\n",
    "    bins: a list of linear bin edges\n",
    "    \"\"\"\n",
    "    bins = np.linspace(start, end, n_bins)\n",
    "    return bins"
   ]
  },
  {
   "cell_type": "code",
   "execution_count": 3,
   "metadata": {
    "deletable": false,
    "editable": false,
    "nbgrader": {
     "cell_type": "code",
     "checksum": "4f7b55ffc25760bc82118555e1cf81c4",
     "grade": false,
     "grade_id": "cell-52953fa1bfac57d3",
     "locked": true,
     "schema_version": 3,
     "solution": false,
     "task": false
    }
   },
   "outputs": [],
   "source": [
    "def create_logbins(start, end, n_log, n_lin=0):\n",
    "    \"\"\"\n",
    "    Creates a combination of linear and logarithmic bins: n_lin linear bins \n",
    "    of width 1 starting from start and n_log logarithmic bins further to\n",
    "    max.\n",
    "\n",
    "    Parameters\n",
    "    -----------\n",
    "    start: starting point for linear bins, float\n",
    "    end: maximum value of data, int\n",
    "    n_log: number of logarithmic bins, int\n",
    "    n_lin: number of linear bins, int\n",
    "\n",
    "    Returns\n",
    "    -------\n",
    "    bins: a list of bin edges\n",
    "    \"\"\"\n",
    "    if n_lin == 0:\n",
    "        bins = np.logspace(np.log10(start), np.log10(end), n_log)\n",
    "    elif n_lin > 0:\n",
    "        bins = np.array([start + i for i in range(n_lin)] + list(np.logspace(np.log10(start + n_lin), np.log10(end), n_log)))\n",
    "    return bins"
   ]
  },
  {
   "cell_type": "markdown",
   "metadata": {
    "deletable": false,
    "editable": false,
    "nbgrader": {
     "cell_type": "markdown",
     "checksum": "0bc66251dabca7c2c5e74b0866d33e13",
     "grade": false,
     "grade_id": "cell-55466d6baf6a3ffb",
     "locked": true,
     "schema_version": 3,
     "solution": false,
     "task": false
    }
   },
   "source": [
    "## Data\n",
    "Let us load the data from the right directory and assign the names for all the plots we will save. If you run this notebook in your machine, please specify the right directory."
   ]
  },
  {
   "cell_type": "code",
   "execution_count": 4,
   "metadata": {},
   "outputs": [
    {
     "name": "stdout",
     "output_type": "stream",
     "text": [
      "The data directory is /coursedata\n"
     ]
    }
   ],
   "source": [
    "# Select data directory\n",
    "import os\n",
    "if os.path.isdir('/coursedata'):\n",
    "    course_data_dir = '/coursedata'\n",
    "elif os.path.isdir('../data'):\n",
    "    course_data_dir = '../data'\n",
    "else:\n",
    "    # Specify course_data_dir on your machine\n",
    "    course_data_dir = 'some_path'\n",
    "\n",
    "print('The data directory is %s' % course_data_dir)\n",
    "\n",
    "network_path = os.path.join(course_data_dir, 'OClinks_w_undir.edg')\n",
    "\n",
    "net_name = 'fb_like'\n",
    "# TODO: replace with a path where to save the 1-CDF plot\n",
    "path = './ccdfs_' + net_name + '.pdf'\n",
    "# TODO: replace with a base path where to save the average link weight scatter\n",
    "# A scale-related suffix will be added to this base path so the figures will not overwritten\n",
    "base_path = './s_per_k_vs_k_'\n",
    "# TODO: replace with a base path where to save the link neighborhood overlap plot\n",
    "save_path_linkneighborhoodplot = 'O_vs_w_' + net_name + '.pdf'"
   ]
  },
  {
   "cell_type": "code",
   "execution_count": 5,
   "metadata": {
    "deletable": false,
    "editable": false,
    "nbgrader": {
     "cell_type": "code",
     "checksum": "7f884566de7dae77f65139b798bfa5c8",
     "grade": false,
     "grade_id": "cell-08df57adbbab6c11",
     "locked": true,
     "schema_version": 3,
     "solution": false,
     "task": false
    }
   },
   "outputs": [],
   "source": [
    "#Let's read the network file\n",
    "network = nx.read_weighted_edgelist(network_path)"
   ]
  },
  {
   "cell_type": "markdown",
   "metadata": {
    "deletable": false,
    "editable": false,
    "nbgrader": {
     "cell_type": "markdown",
     "checksum": "9f1626a9faf2a1466eda35e34162dbbe",
     "grade": false,
     "grade_id": "cell-361090f1757159ea",
     "locked": true,
     "schema_version": 3,
     "solution": false,
     "task": false
    }
   },
   "source": [
    "# Begin of the exercise\n",
    "Write your code here to analyze the social network dataset. "
   ]
  },
  {
   "cell_type": "markdown",
   "metadata": {
    "deletable": false,
    "editable": false,
    "nbgrader": {
     "cell_type": "markdown",
     "checksum": "0fbaa8af2a765735d88c1817d9b4aece",
     "grade": false,
     "grade_id": "cell-15cf3d1fca11bf11",
     "locked": true,
     "schema_version": 3,
     "solution": false,
     "task": false
    }
   },
   "source": [
    "### a. Complementary cumulative distribution\n",
    "\n",
    "Before performing more sophisticated analysis, it is always good to get some idea on what the network is like. To this end, plot the complementary cumulative distribution (1-CDF) for node degree $k$, node strength $s$ and link weight $w$.\n",
    "\n",
    "- Show all three distributions in one plot using loglog-scale.\n",
    "- Based on the plots, roughly estimate the 90th percentiles of the degree, strength, and weight distributions.\n",
    "\n",
    "To achieve this, you will need to modify two functions: `get_link_weights` and  `plot_ccdf` first.\n",
    "\n",
    "**Hints**:\n",
    "- See the binning tutorial for help on computing the 1-CDFs.\n",
    "- For getting node strengths, use `strengths = nx.degree(net, weight=\"weight\")`\n",
    "- As a check, calculate the maximum degree $k_\\mathrm{max}$ and maximum strength $s_\\mathrm{max}$. If everything is running okay so far, you should be getting $k_\\mathrm{max}$ = 255 and $s_\\mathrm{max}$ = 1546.0."
   ]
  },
  {
   "cell_type": "code",
   "execution_count": 6,
   "metadata": {
    "deletable": false,
    "nbgrader": {
     "cell_type": "code",
     "checksum": "e2aebbe3986bb9c4772ba27ca7160a7f",
     "grade": true,
     "grade_id": "cell-f9ed208ab070cc46",
     "locked": false,
     "points": 0,
     "schema_version": 3,
     "solution": true,
     "task": false
    }
   },
   "outputs": [],
   "source": [
    "def get_link_weights(net):\n",
    "\n",
    "    \"\"\"\n",
    "    Returns a list of link weights in the network.\n",
    "\n",
    "    Parameters\n",
    "    -----------\n",
    "    net: a networkx.Graph() object\n",
    "\n",
    "    Returns\n",
    "    --------\n",
    "    weights: list of link weights in net\n",
    "    \"\"\"\n",
    "\n",
    "    # TODO: write a function to get weights of the links\n",
    "    # Hints:\n",
    "    # to get the links with their weight data, use net.edges(data=True)\n",
    "    # to get weight of a single link, use (i, j, data) for each edge,\n",
    "    # weight = data['weight']\n",
    "    \n",
    "    # YOUR CODE HERE\n",
    "    weights = [data['weight'] for i,j,data in net.edges(data=True)]\n",
    "    return weights"
   ]
  },
  {
   "cell_type": "code",
   "execution_count": 7,
   "metadata": {
    "deletable": false,
    "nbgrader": {
     "cell_type": "code",
     "checksum": "3dc3ef1c9d3b463a5186b292782f484c",
     "grade": true,
     "grade_id": "cell-fb50dc49af3c95f5",
     "locked": false,
     "points": 0,
     "schema_version": 3,
     "solution": true,
     "task": false
    }
   },
   "outputs": [],
   "source": [
    "def plot_ccdf(datavecs, labels, xlabel, ylabel, num):\n",
    "\n",
    "    \"\"\"\n",
    "    Plots in a single figure the complementary cumulative distributions (1-CDFs)\n",
    "    of the given data vectors.\n",
    "\n",
    "    Parameters\n",
    "    -----------\n",
    "    datavecs: data vectors to plot, a list of iterables\n",
    "    labels: labels for the data vectors, list of strings\n",
    "    styles = styles in which plot the distributions, list of strings\n",
    "    xlabel: x label for the figure, string\n",
    "    ylabel: y label for the figure, string\n",
    "    num: an id of the figure, int or string\n",
    "    \"\"\"\n",
    "    styles = ['-', '--', '-.']\n",
    "    fig = plt.figure(num)\n",
    "    ax = fig.add_subplot(111)\n",
    "    for datavec, label, style in zip(datavecs,labels, styles):\n",
    "        # TODO: calculate 1-CDF of datavec and plot it with ax.loglog()\n",
    "        sorted_datavec = sorted(datavec)\n",
    "        # YOUR CODE HERE\n",
    "        ccdf = []\n",
    "        n = len(sorted_datavec)\n",
    "        for val1 in sorted_datavec:\n",
    "            aux = 0\n",
    "            for val2 in sorted_datavec:\n",
    "                aux += (val1 <= val2)\n",
    "            aux /= n\n",
    "            ccdf.append(aux)\n",
    "        ax.plot(sorted_datavec, ccdf, style, label=label)\n",
    "    ax.set_xscale('log')\n",
    "    ax.set_yscale('log') \n",
    "    ax.set_xlabel(xlabel)\n",
    "    ax.set_ylabel(ylabel)\n",
    "    ax.legend(loc=0)\n",
    "    ax.grid()\n",
    "\n",
    "    return fig"
   ]
  },
  {
   "cell_type": "code",
   "execution_count": 8,
   "metadata": {
    "deletable": false,
    "nbgrader": {
     "cell_type": "code",
     "checksum": "53e105babd9ae20cdf7e70d9292228d1",
     "grade": true,
     "grade_id": "cell-636bc96b6f9b2fed",
     "locked": false,
     "points": 3,
     "schema_version": 3,
     "solution": true,
     "task": false
    }
   },
   "outputs": [
    {
     "name": "stdout",
     "output_type": "stream",
     "text": [
      "Maximum degree: 255\n",
      "Maximum strength: 1546.0\n",
      "1-CDF figure saved to ./ccdfs_fb_like.pdf\n"
     ]
    },
    {
     "data": {
      "image/png": "[encoded data removed]",
      "text/plain": [
       "<Figure size 432x288 with 1 Axes>"
      ]
     },
     "metadata": {
      "needs_background": "light"
     },
     "output_type": "display_data"
    }
   ],
   "source": [
    "# Get the node degrees and strengths\n",
    "degrees = nx.degree(network)\n",
    "strengths = nx.degree(network, weight=\"weight\")\n",
    "\n",
    "# Now, convert the degree and strength into lists.\n",
    "degree_vec = [d for n, d in degrees]\n",
    "strength_vec = [s for n, s in strengths]\n",
    "\n",
    "# Check the maxmimum degree and strength\n",
    "print('Maximum degree: %d' % max(degree_vec))\n",
    "print('Maximum strength: %.1f' % max(strength_vec))\n",
    "\n",
    "# Then, compute the weights\n",
    "weights = get_link_weights(network)\n",
    "\n",
    "# Now let's create 1-CDF plots\n",
    "datavecs = [degree_vec, strength_vec, weights]\n",
    "num = 'a)' + net_name # figure identifier\n",
    "\n",
    "# TODO: Set appropriate labels\n",
    "labels = ['Degree', 'Strength', 'Weight']\n",
    "xlabel = 'Degree, strength or link weight'\n",
    "ylabel = '1-CDF'\n",
    "\n",
    "fig = plot_ccdf(datavecs, labels, xlabel, ylabel, num)\n",
    "fig.savefig(path)\n",
    "print('1-CDF figure saved to ' + path)"
   ]
  },
  {
   "cell_type": "markdown",
   "metadata": {
    "deletable": false,
    "editable": false,
    "nbgrader": {
     "cell_type": "markdown",
     "checksum": "514362c5b6e561b2984eb27e7f20707b",
     "grade": false,
     "grade_id": "cell-52c85a234f7d87e3",
     "locked": true,
     "schema_version": 3,
     "solution": false,
     "task": false
    }
   },
   "source": [
    "### b. Average link weight per node\n",
    "Next, we will study how the average link weight per node $\\langle w \\rangle =\\frac{s}{k}$ behaves as a function of the node degree $k$. \n",
    "\n",
    "- Compute $s$, $k$, and $\\langle w \\rangle = \\frac{s}{k}$ for each node.\n",
    "\n",
    "- Make a scatter plot of all the data points of $\\langle w \\rangle$ as a function of $k$. Create two versions of the plots: one with linear and one with logarithmic $x$-axes.\n",
    "\n",
    "- The large variance of the data can make the scatter plots a bit messy. To make the relationship between $\\langle w \\rangle$ and $k$ more visible, create bin-averaged versions of the plots, i.e., divide nodes into bins based on their degree and calculate the average $\\langle w \\rangle$ in each bin. Plot the bin-averaged versions on top of the scatter plots.\n",
    "\n",
    "- Based on the plots, which of the two approaches (linear or logarithmic $x$-axes) suits better for presenting $\\langle w \\rangle$ as a function of $k$? Why?\n",
    "\n",
    "**Hints**:\n",
    "- For the bin-averaged plots, use bins that are consistent with the scale of the $x$-axis: bins with constant width for the linear scale and logarithmic bins for the logarithmic scale. If in trouble, see the binning tutorial for help.\n",
    "\n",
    "- An example of how the scatter and bin-averaged plots may look like is shown in Fig.1 of the assignment PDF. Obviously, the number of bins are too few in these plots. Typically, it is better to use too many than too few bins. A good choice for the number of bins in this case would be 20.\n",
    "\n",
    "- Check if each degree bin includes roughly the same number of nodes. Nonequal distribution of observations may obscure the results."
   ]
  },
  {
   "cell_type": "code",
   "execution_count": 9,
   "metadata": {
    "deletable": false,
    "nbgrader": {
     "cell_type": "code",
     "checksum": "d78abc6e81a51e823d5dd113bd96ba9b",
     "grade": true,
     "grade_id": "cell-24ee818ce92aca86",
     "locked": false,
     "points": 2,
     "schema_version": 3,
     "solution": true,
     "task": false
    }
   },
   "outputs": [
    {
     "name": "stdout",
     "output_type": "stream",
     "text": [
      "[  1.           2.           3.           4.           5.\n",
      "   6.           7.84268452  10.25128341  13.39959695  17.51480193\n",
      "  22.89384433  29.92486642  39.11521443  51.12804778  66.83019147\n",
      "  87.35468468 114.18253888 149.24960501 195.08626112 255.        ]\n",
      "255\n",
      "Average link weight scatter saved to ./s_per_k_vs_k_linear_fb_like.pdf\n",
      "Average link weight scatter saved to ./s_per_k_vs_k_log_fb_like.pdf\n"
     ]
    },
    {
     "data": {
      "image/png": "[encoded data removed]",
      "text/plain": [
       "<Figure size 432x288 with 1 Axes>"
      ]
     },
     "metadata": {
      "needs_background": "light"
     },
     "output_type": "display_data"
    },
    {
     "data": {
      "image/png": "[encoded data removed]",
      "text/plain": [
       "<Figure size 432x288 with 1 Axes>"
      ]
     },
     "metadata": {
      "needs_background": "light"
     },
     "output_type": "display_data"
    }
   ],
   "source": [
    "# average link weight per node\n",
    "#TODO: calculate average link weight per node\n",
    "# YOUR CODE HERE\n",
    "av_weight = [s/k for s,k in zip(strength_vec,degree_vec)]\n",
    "\n",
    "n_bins = 20\n",
    "n_lin = 5\n",
    "min_deg = min(degree_vec)\n",
    "max_deg = max(degree_vec)\n",
    "linbins = create_linbins(min_deg, max_deg, n_bins)\n",
    "logbins = create_logbins(min_deg, max_deg, n_log=n_bins-n_lin, n_lin=n_lin)\n",
    "print(logbins)\n",
    "print(max_deg)\n",
    "num = 'b) ' + net_name + \"_\"\n",
    "alpha = 0.1 # transparency of data points in the scatter\n",
    "\n",
    "# For each of linear and logarithmic versions, the full scatter plot and \n",
    "# the bin-averaged plot can be shown in one figure.\n",
    "\n",
    "for bins, scale in zip([linbins, logbins], ['linear', 'log']):\n",
    "    fig = plt.figure(num + scale)\n",
    "    ax = fig.add_subplot(111)\n",
    "    # mean degree value of each degree bin\n",
    "    degree_bin_means, _, _ = ([], [], [])\n",
    "    # TODO: Use binned_statistic to get mean degree of each bin\n",
    "    # YOUR CODE HERE\n",
    "    degree_bin_means, _, _ = binned_statistic(x = degree_vec,\n",
    "                                              values = degree_vec,\n",
    "                                              bins = bins,\n",
    "                                              statistic = 'mean')\n",
    "\n",
    "    # mean of the average link weights in each degree bin\n",
    "    av_weight_bin_means, _, _ = ([], [], [])\n",
    "    # TODO: Use binned_statistic to get mean of average link weights in each bin\n",
    "    # YOUR CODE HERE\n",
    "    av_weight_bin_means, _, _ = binned_statistic(x = degree_vec,\n",
    "                                                values = av_weight,\n",
    "                                                bins = bins,\n",
    "                                                statistic = 'mean')\n",
    "    # number of points in each degree bin\n",
    "    counts, _, _ = ([], [], [])\n",
    "    # TODO: Use binned_statistic to get number of data points in each bin\n",
    "    # YOUR CODE HERE\n",
    "    counts, _, _ = binned_statistic(x = degree_vec,\n",
    "                                    values = degree_vec,\n",
    "                                    bins = bins,\n",
    "                                    statistic = 'count')\n",
    "\n",
    "    # Scatter plot all points\n",
    "    ax.scatter(degree_vec, av_weight, marker='o', color='k', s=1.5, alpha=alpha)\n",
    "\n",
    "    # Plotting the bin averages\n",
    "    # The marker size is scaled by number of data points in the bin\n",
    "    ax.scatter(degree_bin_means,\n",
    "               av_weight_bin_means,\n",
    "               marker='o',\n",
    "               color='r',\n",
    "               s=2*np.sqrt(counts),\n",
    "               label='binned data')\n",
    "    ax.set_xscale(scale)\n",
    "    min_max = np.array([min_deg, max_deg])\n",
    "    \n",
    "    # TODO: Set appropriate labels\n",
    "    ax.set_xlabel('degree k')\n",
    "    ax.set_ylabel('avg link weight s')\n",
    "    ax.set_ylim(bottom=0.0)\n",
    "    ax.grid()\n",
    "\n",
    "    ax.legend(loc='best')\n",
    "    plt.suptitle('avg. link weight vs. degree:' + net_name)\n",
    "    save_path = base_path + scale + '_' + net_name + '.pdf'\n",
    "    fig.savefig(save_path)\n",
    "    print('Average link weight scatter saved to ' + save_path)"
   ]
  },
  {
   "cell_type": "markdown",
   "metadata": {
    "deletable": false,
    "editable": false,
    "nbgrader": {
     "cell_type": "markdown",
     "checksum": "bb919f70f3f6581fd033f54c71bde4d1",
     "grade": false,
     "grade_id": "cell-c218190e96ddd99d",
     "locked": true,
     "schema_version": 3,
     "solution": false,
     "task": false
    }
   },
   "source": [
    "### c. Link neighborhood overlap\n",
    "Lets consider a link between nodes $i$ and $j$. For this link, *link neighborhood overlap* $O_{ij}$ is defined as the fraction of common neighbors of $i$ and $j$ out of all their neighbors: $O_{ij}=\\frac{n_{ij}}{\\left(k_i-1\\right)+\\left(k_j-1\\right)-n_{ij}}.$\n",
    "\n",
    "According to the Granovetter hypothesis, link neighborhood overlap is an increasing function of link weight in social networks. Your task is now to find out whether this is the case also for the present data set by visualizing it in an appropriate way. Use the binning strategy (linear or logarithmic) that is most suitable for this case. \n",
    "\n",
    "- Calculate the link neighborhood overlap for each link. To do this, you will need to modify the `get_link_overlap` function.\n",
    "\n",
    "- Create a scatter plot showing the overlaps as a function of link weight.\n",
    "\n",
    "- As in b), produce also a bin-averaged version of the plot. Use a binning strategy that is most suitable for this case. You should find a reasonable number of bins, which, in this case, will be between 10 and 30. Specify how many bins you used.\n",
    "\n",
    "- In the end, you should be able to spot a subtle trend in the data. Based on your plot, show that the trend is in accordance with the Granovetter hypothesis."
   ]
  },
  {
   "cell_type": "code",
   "execution_count": 10,
   "metadata": {
    "deletable": false,
    "nbgrader": {
     "cell_type": "code",
     "checksum": "de36220a45ed6088afd96be4988f2551",
     "grade": true,
     "grade_id": "cell-4aaccdb57e0ea06a",
     "locked": false,
     "points": 0,
     "schema_version": 3,
     "solution": true,
     "task": false
    }
   },
   "outputs": [],
   "source": [
    "def get_link_overlap(net):\n",
    "    \"\"\"\n",
    "    Calculates link overlap: \n",
    "    O_ij = n_ij / [(k_i - 1) + (k_j - 1) - n_ij]\n",
    "\n",
    "    Parameters\n",
    "    -----------\n",
    "    net: a networkx.Graph() object\n",
    "\n",
    "    Returns\n",
    "    --------\n",
    "    overlaps: list of link overlaps in net\n",
    "    \"\"\"\n",
    "\n",
    "    # TODO: write a function to calculate link neighborhood overlap\n",
    "    # Hint: for getting common neighbors of two nodes, use\n",
    "    # set datatype and intersection method\n",
    "\n",
    "    overlaps = []\n",
    "    # YOUR CODE HERE\n",
    "    for (i, j) in net.edges():\n",
    "        n_i = set(net.neighbors(i))\n",
    "        n_j = set(net.neighbors(j))\n",
    "        n_ij = len(n_i.intersection(n_j))\n",
    "        \n",
    "        k_i = nx.degree(net, i)\n",
    "        k_j = nx.degree(net, j)\n",
    "        \n",
    "        if n_ij == 0:\n",
    "            O_ij = 0\n",
    "        else:\n",
    "            O_ij = n_ij / ((k_i - 1) + (k_j - 1) - n_ij)\n",
    "        overlaps.append(O_ij)\n",
    "    return overlaps"
   ]
  },
  {
   "cell_type": "code",
   "execution_count": 11,
   "metadata": {
    "deletable": false,
    "nbgrader": {
     "cell_type": "code",
     "checksum": "34cfc825e7bb30e33bb5630b06edd519",
     "grade": true,
     "grade_id": "cell-c65e79762ef7342d",
     "locked": false,
     "points": 3,
     "schema_version": 3,
     "solution": true,
     "task": false
    }
   },
   "outputs": [
    {
     "name": "stdout",
     "output_type": "stream",
     "text": [
      "[  1.           2.           3.           4.           5.\n",
      "   6.           6.91983423   7.9806843    9.20416874  10.61522032\n",
      "  12.24259416  14.1194537   16.28404651  18.78048375  21.65963906\n",
      "  24.9801853   28.80979023  33.22649545  38.32030678  44.19502844\n",
      "  50.97037846  58.78442829  67.79641654  78.18999401  90.1769662\n",
      " 104.00160963 119.94564977 138.33400222 159.54139403 184.        ]\n",
      "Link neighborhood overlap scatter saved as O_vs_w_fb_like.pdf\n"
     ]
    },
    {
     "data": {
      "image/png": "[encoded data removed]",
      "text/plain": [
       "<Figure size 432x288 with 1 Axes>"
      ]
     },
     "metadata": {
      "needs_background": "light"
     },
     "output_type": "display_data"
    }
   ],
   "source": [
    "# Get link neighborhood overlaps\n",
    "overlaps = get_link_overlap(network)\n",
    "\n",
    "# creating link neighborhood overlap scatter\n",
    "num = 'd) + net_name'\n",
    "fig = plt.figure(num)\n",
    "ax = fig.add_subplot(111)\n",
    "\n",
    "# TODO: Change the number of bins to the number you find reasonable between 10 and 30\n",
    "n_bins = 30\n",
    "n_lin = 5\n",
    "min_w = np.min(weights)\n",
    "max_w = np.max(weights)\n",
    "\n",
    "linbins = create_linbins(min_w, max_w, n_bins)\n",
    "logbins = create_logbins(min_w, max_w, n_log=n_bins-n_lin, n_lin=n_lin)\n",
    "print(logbins)\n",
    "\n",
    "# TODO: try both linear and logarithmic bins, select the best one\n",
    "# Specify the scale for x-axis that is consitent with the binning strategy\n",
    "bins = logbins\n",
    "scale = 'log' \n",
    "\n",
    "# mean weight value of each weight bin\n",
    "weight_bin_means, _, _ = ([], [], [])\n",
    "# TODO: Use binned_statistic to get mean weight of each bin\n",
    "# YOUR CODE HERE\n",
    "weight_bin_means, _, _ = binned_statistic(x = weights,\n",
    "                                          values = weights,\n",
    "                                          bins = bins,\n",
    "                                          statistic = 'mean')\n",
    "\n",
    "# mean link neighborhood overlap of each weight bin\n",
    "overlap_bin_means, _, _ = ([], [], [])\n",
    "# TODO: Use binned_statistic to get mean overlap of each bin \n",
    "# YOUR CODE HERE\n",
    "overlap_bin_means, _, _ = binned_statistic(x = weights,\n",
    "                                          values = overlaps,\n",
    "                                          bins = bins,\n",
    "                                          statistic = 'mean')\n",
    "\n",
    "# number of points in each weigth bin\n",
    "counts, _, _ = ([], [], [])\n",
    "# TODO: Use binned_statistic to get number of data points\n",
    "# YOUR CODE HERE\n",
    "counts, _, _ = binned_statistic(x = weights,\n",
    "                                values = weights,\n",
    "                                bins = bins,\n",
    "                                statistic = 'count')\n",
    "\n",
    "\n",
    "# plotting all points (overlap)\n",
    "ax.scatter(weights, overlaps, marker=\"o\", color='k', s=1.5, alpha=alpha)\n",
    "# plotting bin average, marker size scaled by number of data points in the bin\n",
    "ax.scatter(weight_bin_means,\n",
    "           overlap_bin_means,\n",
    "           s=np.sqrt(counts)+1,\n",
    "           marker='o',\n",
    "           color='r')\n",
    "\n",
    "ax.set_xscale(scale)\n",
    "ax.set_yscale('log')\n",
    "ax.set_ylim(bottom=0.01)\n",
    "ax.grid()\n",
    "\n",
    "#TODO: Set appropriate labels\n",
    "ax.set_xlabel('weight')\n",
    "ax.set_ylabel('link neighborhood overlap')\n",
    "ax.text(0.95, 0.95, \"number of bins:\" + str(n_bins), \n",
    "        horizontalalignment='right', verticalalignment='top', \n",
    "        backgroundcolor='w', transform=ax.transAxes)\n",
    "\n",
    "fig.suptitle('Overlap vs. weight:' + net_name)\n",
    "fig.savefig(save_path_linkneighborhoodplot)\n",
    "print('Link neighborhood overlap scatter saved as ' + save_path_linkneighborhoodplot)"
   ]
  }
 ],
 "metadata": {
  "kernelspec": {
   "display_name": "Python 3",
   "language": "python",
   "name": "python3"
  },
  "language_info": {
   "codemirror_mode": {
    "name": "ipython",
    "version": 3
   },
   "file_extension": ".py",
   "mimetype": "text/x-python",
   "name": "python",
   "nbconvert_exporter": "python",
   "pygments_lexer": "ipython3",
   "version": "3.8.3"
  }
 },
 "nbformat": 4,
 "nbformat_minor": 4
}
